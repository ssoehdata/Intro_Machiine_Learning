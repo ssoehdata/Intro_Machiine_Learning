{
 "cells": [
  {
   "cell_type": "code",
   "execution_count": 1,
   "id": "806982aa-e6c3-42c3-9402-ebb8c7ec1f07",
   "metadata": {},
   "outputs": [],
   "source": [
    "import time \n",
    "import sklearn\n",
    "from sklearn.datasets import load_iris\n",
    "iris_dataset = load_iris() \n",
    "import pandas as pd \n",
    "import matplotlib.pyplot as plt\n",
    "import mglearn\n"
   ]
  },
  {
   "cell_type": "code",
   "execution_count": 2,
   "id": "428ba635-3fd7-4ed2-8b4e-91aee6cf4625",
   "metadata": {},
   "outputs": [
    {
     "name": "stdout",
     "output_type": "stream",
     "text": [
      "X_train shape: (112, 4)\n",
      "\n",
      "y_train shape: (112,)\n",
      "\n",
      "X_test shape: (38, 4)\n",
      "\n",
      "y_test shape: (38,)\n"
     ]
    },
    {
     "ename": "NameError",
     "evalue": "name 'mglearn' is not defined",
     "output_type": "error",
     "traceback": [
      "\u001b[0;31m---------------------------------------------------------------------------\u001b[0m",
      "\u001b[0;31mNameError\u001b[0m                                 Traceback (most recent call last)",
      "Cell \u001b[0;32mIn[2], line 21\u001b[0m\n\u001b[1;32m     17\u001b[0m iris_dataframes \u001b[38;5;241m=\u001b[39m pd\u001b[38;5;241m.\u001b[39mDataFrame(X_train, columns\u001b[38;5;241m=\u001b[39miris_dataset\u001b[38;5;241m.\u001b[39mfeature_names)\n\u001b[1;32m     18\u001b[0m \u001b[38;5;66;03m# create a scatter matrix from the dataframe, color by y_train\u001b[39;00m\n\u001b[1;32m     19\u001b[0m pd\u001b[38;5;241m.\u001b[39mplotting\u001b[38;5;241m.\u001b[39mscatter_matrix(iris_dataframes, c\u001b[38;5;241m=\u001b[39my_train, figsize\u001b[38;5;241m=\u001b[39m(\u001b[38;5;241m15\u001b[39m, \u001b[38;5;241m15\u001b[39m), \n\u001b[1;32m     20\u001b[0m             marker\u001b[38;5;241m=\u001b[39m\u001b[38;5;124m'\u001b[39m\u001b[38;5;124mo\u001b[39m\u001b[38;5;124m'\u001b[39m,hist_kwds\u001b[38;5;241m=\u001b[39m{\u001b[38;5;124m'\u001b[39m\u001b[38;5;124mbins\u001b[39m\u001b[38;5;124m'\u001b[39m:\u001b[38;5;241m20\u001b[39m},s\u001b[38;5;241m=\u001b[39m\u001b[38;5;241m60\u001b[39m,\n\u001b[0;32m---> 21\u001b[0m             alpha\u001b[38;5;241m=\u001b[39m\u001b[38;5;241m.8\u001b[39m,cmap\u001b[38;5;241m=\u001b[39m\u001b[43mmglearn\u001b[49m\u001b[38;5;241m.\u001b[39mcm3)\n",
      "\u001b[0;31mNameError\u001b[0m: name 'mglearn' is not defined"
     ]
    }
   ],
   "source": [
    "start = time.time()\n",
    "\n",
    "from sklearn.model_selection import train_test_split \n",
    "X_train, X_test, y_train, y_test = train_test_split(\n",
    "    iris_dataset['data'], iris_dataset['target'],random_state=0)\n",
    "\n",
    "print(\"X_train shape:\", X_train.shape)\n",
    "print(\"\\ny_train shape:\", y_train.shape)\n",
    "print(\"\\nX_test shape:\", X_test.shape)\n",
    "print(\"\\ny_test shape:\", y_test.shape)\n",
    "\n",
    "############################\n",
    "# visualizing data for initial data inspection \n",
    "# will use a pair plot \n",
    "# first convert array to  a pd dataframe using X_train data \n",
    "# label the cols using the strings in the iris_dataset.features_names \n",
    "iris_dataframes = pd.DataFrame(X_train, columns=iris_dataset.feature_names)\n",
    "# create a scatter matrix from the dataframe, color by y_train\n",
    "pd.plotting.scatter_matrix(iris_dataframes, c=y_train, figsize=(15, 15), \n",
    "            marker='o',hist_kwds={'bins':20},s=60,\n",
    "            alpha=.8,cmap=mglearn.cm3)\n"
   ]
  },
  {
   "cell_type": "code",
   "execution_count": null,
   "id": "9edcc375-2144-4d22-961d-19d4eb0cd726",
   "metadata": {},
   "outputs": [],
   "source": []
  }
 ],
 "metadata": {
  "kernelspec": {
   "display_name": "Python 3 (ipykernel)",
   "language": "python",
   "name": "python3"
  },
  "language_info": {
   "codemirror_mode": {
    "name": "ipython",
    "version": 3
   },
   "file_extension": ".py",
   "mimetype": "text/x-python",
   "name": "python",
   "nbconvert_exporter": "python",
   "pygments_lexer": "ipython3",
   "version": "3.10.12"
  }
 },
 "nbformat": 4,
 "nbformat_minor": 5
}
